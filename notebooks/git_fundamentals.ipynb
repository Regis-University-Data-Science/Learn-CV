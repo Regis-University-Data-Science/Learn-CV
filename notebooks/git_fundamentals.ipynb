{
 "cells": [
  {
   "cell_type": "markdown",
   "id": "4c1b8216",
   "metadata": {},
   "source": [
    "# Git and GitHub Fundamentals\n",
    "This notebook will go over the basics of using Git, as well as show you how to submit your code to merge with the main branch."
   ]
  },
  {
   "cell_type": "markdown",
   "id": "3a1be818",
   "metadata": {},
   "source": [
    "## Git Basics\n",
    "First things first, what is Git? It's a funny name for a tool originally created by Linus Torvalds (yes, *that* Linus Torvalds, of GNU/Linux fame) but basically it's a tool used to track changes made to software. It allows teams to collaborate on code, and keeps track of all the changes so that team members aren't always overwriting each other or getting in each others' way. Other tools, like Source Control in VSCode and GitHub are built on top of Git, so understanding native Git in the command line will make using it with other tools easier."
   ]
  },
  {
   "cell_type": "markdown",
   "id": "aa97545a",
   "metadata": {},
   "source": [
    "In the GitHub repository, make sure you're in the `main` codebase, and click the green `<> Code` button to get the HTTPS URL.\n",
    "\n",
    "<img src=\"img/github_clone.png\" width=\"30%\" />"
   ]
  },
  {
   "cell_type": "markdown",
   "id": "3c302f1e",
   "metadata": {},
   "source": [
    "Use the following command in the directory you'd like to add the local folder:\n",
    "<br>\n",
    "`git clone https://github.com/Regis-University-Data-Science/Learn-CV.git`\n",
    "<br>\n",
    "<br>\n",
    "\n",
    "![git_cli_clone_01](img/git_cli_clone_01.png)"
   ]
  },
  {
   "cell_type": "markdown",
   "id": "0e52b8c3",
   "metadata": {},
   "source": [
    "Navigate into the new folder using the `cd Learn-CV` command.\n",
    "<br>\n",
    "\n",
    "![git_cli_clone_02](img/git_cli_clone_02.png)"
   ]
  },
  {
   "cell_type": "markdown",
   "id": "64df9e05",
   "metadata": {},
   "source": [
    "Now check the status of the branch you're currently viewing using `git status`:\n",
    "<br>\n",
    "<br>\n",
    "\n",
    "![git_cli_01](img/git_cli_01.png)\n",
    "\n",
    "You see that it says that \"Your branch\" is up to date with something called `origin/main`.\n",
    "<br>\n",
    "\n",
    "In this case, `origin/` tells us that this is referring to the **remote** branch `main`, the one stored in GitHub."
   ]
  },
  {
   "cell_type": "markdown",
   "id": "67f9f878",
   "metadata": {},
   "source": [
    "We can check the remote branches using the command `git branch -r`, the `-r` flag specifies \"remote\" branches.\n",
    "<br>\n",
    "\n",
    "![git_cli_02](img/git_cli_02.png)\n",
    "\n",
    "`origin/HEAD` is a special branch that points to the branch it consideres the main trunk. In this case, it's pointed to `origin/main`, which is standard."
   ]
  },
  {
   "cell_type": "markdown",
   "id": "a4093c81",
   "metadata": {},
   "source": [
    "Let's create a new branch, one that copies the current branch, so we can have a working copy that will not affect the `main` branch. Use the command `git checkout -b <name of branch>`\n",
    "<br>\n",
    "\n",
    "In this case, I created `git-tutorial` branch. The `-b` flag in `git checkout` signifies that we're creating a new branch, and switching to it.\n",
    "<br> \n",
    "\n",
    "![git_cli_03](img/git_cli_03.png)"
   ]
  },
  {
   "cell_type": "markdown",
   "id": "1db763bb",
   "metadata": {},
   "source": [
    "![git_cli_04](img/git_cli_04.png)"
   ]
  },
  {
   "cell_type": "markdown",
   "id": "46083b54",
   "metadata": {},
   "source": [
    "![git_cli_05](img/git_cli_05.png)"
   ]
  },
  {
   "cell_type": "markdown",
   "id": "f44b44bd",
   "metadata": {},
   "source": [
    "![git_cli_06](img/git_cli_06.png)"
   ]
  },
  {
   "cell_type": "markdown",
   "id": "6f140b77",
   "metadata": {},
   "source": [
    "![git_cli_07](img/git_cli_07.png)"
   ]
  },
  {
   "cell_type": "markdown",
   "id": "894fe3a8",
   "metadata": {},
   "source": [
    "![git_cli_08](img/git_cli_08.png)"
   ]
  },
  {
   "cell_type": "markdown",
   "id": "e635fc06",
   "metadata": {},
   "source": [
    "![git_cli_09](img/git_cli_09.png)"
   ]
  },
  {
   "cell_type": "markdown",
   "id": "6bc99ec5",
   "metadata": {},
   "source": [
    "![git_cli_10](img/git_cli_10.png)"
   ]
  },
  {
   "cell_type": "markdown",
   "id": "fbce6d03",
   "metadata": {},
   "source": [
    "![git_cli_11](img/git_cli_11.png)"
   ]
  },
  {
   "cell_type": "markdown",
   "id": "f8813319",
   "metadata": {},
   "source": [
    "![git_cli_12](img/git_cli_12.png)"
   ]
  },
  {
   "cell_type": "markdown",
   "id": "9d886170",
   "metadata": {},
   "source": [
    "![git_cli_13](img/git_cli_13.png)"
   ]
  }
 ],
 "metadata": {
  "language_info": {
   "name": "python"
  }
 },
 "nbformat": 4,
 "nbformat_minor": 5
}
